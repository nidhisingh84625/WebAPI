{
 "cells": [
  {
   "cell_type": "markdown",
   "id": "883b9008-5c8c-45e9-952c-62f1466b84f1",
   "metadata": {},
   "source": [
    "# Q1. What is an API? Give an example, where an API is used in real life."
   ]
  },
  {
   "cell_type": "markdown",
   "id": "6550efe2-5eb5-4605-8a37-3a2fc6386264",
   "metadata": {},
   "source": [
    "API stands for \"application program interface\".\n",
    "APIs are used in web applications to connect user-facing front ends with critical back-end functionality and data. \n",
    "APIs are used to deliver material by streaming services such as Spotify and Netflix."
   ]
  },
  {
   "cell_type": "markdown",
   "id": "b32dc1fe-f041-4565-9122-2d78f2f1f36f",
   "metadata": {},
   "source": [
    "# Q2. Give advantages and disadvantages of using API."
   ]
  },
  {
   "cell_type": "markdown",
   "id": "57a8c3c5-05cf-4d2c-aaa3-980825124f16",
   "metadata": {},
   "source": [
    "Advantages:\n",
    "    1. Increased Interoperability\n",
    "    2. Improved Efficiency\n",
    "    3. Better User Experience\n",
    "    4. Increased Flexibility\n",
    "    5. New Revenue Streams\n",
    "    \n",
    "Disadvantages:\n",
    "    1. Security Concerns\n",
    "    2. Complexity\n",
    "    3. Compatibility Issues\n",
    "    4. Dependency on Third-Party Developers\n",
    "    5. Governance and Management\n",
    "    "
   ]
  },
  {
   "cell_type": "markdown",
   "id": "6c4e62a2-219a-4d5e-9001-891d17b4f942",
   "metadata": {},
   "source": [
    "# Q3. What is a Web API? Differentiate between API and Web API."
   ]
  },
  {
   "cell_type": "markdown",
   "id": "9eab5168-9b52-4ca0-88ec-c88bc1fcd3e1",
   "metadata": {},
   "source": [
    "Web API is used in either a web server or a web browser. Basically Web API is a web development concept. It is limited to Web Application's client-side and also it does not include a web server or web browser details.\n",
    "\n",
    "\n",
    "APIs are mechanisms that enable two software components to communicate with each other using a set of definitions and protocols. For example, the weather bureau's software system contains daily weather data. The weather app on your phone “talks” to this system via APIs and shows you daily weather updates on your phone.\n",
    "\n",
    "\n",
    "Web API is a System to System interaction, in which the data or information from one system can be accessed by another system, after the completion of execution the resultant data or we can say as output is shown to the viewer. API provides data to its programmers which is made available to outside users."
   ]
  },
  {
   "cell_type": "markdown",
   "id": "67da275c-5f0e-40e8-8baa-72a4a17ea991",
   "metadata": {},
   "source": [
    "# Q4. Explain REST and SOAP Architecture. Mention shortcomings of SOAP."
   ]
  },
  {
   "cell_type": "markdown",
   "id": "6d372791-5e4a-4e20-b6e4-30f2fbe77252",
   "metadata": {},
   "source": [
    "A REST API is an application programming interface (API) that uses a representational state transfer (REST) architectural style. The REST architectural style uses HTTP to request access and use data. This allows for interaction with RESTful web services.\n",
    "\n",
    "The SOAP web services architecture is based on interactions between three components: a service provider, a service requester, and an optional service registry. A SOAP message is encoded as an XML document, consisting of an <Envelope> element, which contains an optional element, and a mandatory element.\n",
    "\n",
    "\n",
    "Shortcomings of SOAP:\n",
    "Soaps do not wash well in hard water and does not form much lather or foam. The calcium magnesium or iron ions of hard water form an insoluble sticky grey coloured precipitate called scum which restricts the cleansing action of soap and makes washing more difficult."
   ]
  },
  {
   "cell_type": "markdown",
   "id": "79c1f8dc-f408-417f-bccc-51519904a7ba",
   "metadata": {},
   "source": [
    "# Q5. Differentiate between REST and SOAP."
   ]
  },
  {
   "cell_type": "markdown",
   "id": "485d9166-16fa-43f3-a049-08ba9794e89c",
   "metadata": {},
   "source": [
    "SOAP and REST are two different approaches to API design. The SOAP approach is highly structured and uses XML data format. REST is more flexible and allows applications to exchange data in multiple formats.\n",
    "SOAP uses services interfaces to expose the business logic whereas REST uses URI to expose business logic.\n",
    "SOAP can't use REST because it is a protocol whereas REST can use SOAP web services because it is a concept and can use any protocol like HTTP, SOAP."
   ]
  },
  {
   "cell_type": "code",
   "execution_count": null,
   "id": "0bd622b2-fa93-4c68-8b7a-d9d16becf09a",
   "metadata": {},
   "outputs": [],
   "source": []
  }
 ],
 "metadata": {
  "kernelspec": {
   "display_name": "Python 3 (ipykernel)",
   "language": "python",
   "name": "python3"
  },
  "language_info": {
   "codemirror_mode": {
    "name": "ipython",
    "version": 3
   },
   "file_extension": ".py",
   "mimetype": "text/x-python",
   "name": "python",
   "nbconvert_exporter": "python",
   "pygments_lexer": "ipython3",
   "version": "3.10.8"
  }
 },
 "nbformat": 4,
 "nbformat_minor": 5
}
